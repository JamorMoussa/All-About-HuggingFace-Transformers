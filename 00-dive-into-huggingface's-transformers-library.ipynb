{
 "cells": [
  {
   "cell_type": "markdown",
   "id": "c4b1abc7-a7d6-4d39-8762-a5522f22d85e",
   "metadata": {},
   "source": [
    "# HuggingFace's Transformers Library"
   ]
  },
  {
   "cell_type": "markdown",
   "id": "b7c9d2f4-063c-44ab-96d2-b95c417ec0eb",
   "metadata": {},
   "source": [
    "## 01. The Pipeline function"
   ]
  },
  {
   "cell_type": "markdown",
   "id": "0755596c-d773-4944-832f-7087ee36e368",
   "metadata": {},
   "source": [
    "The Hugging Face's transformers library provides a `pipeline` API, that enables us to create pipelines and use pre-trained models, for specific tasks without handling the complex deep learning concepts."
   ]
  },
  {
   "cell_type": "code",
   "execution_count": 3,
   "id": "d022b337-bd9c-40eb-90d7-9dd6e11dedb8",
   "metadata": {},
   "outputs": [],
   "source": [
    "from transformers import pipeline"
   ]
  },
  {
   "cell_type": "markdown",
   "id": "238fd574-c2e1-48ff-a6f6-350094c5f532",
   "metadata": {},
   "source": [
    "For instance, we use the `sentiment-analysis` or `text-classification` pipeline."
   ]
  },
  {
   "cell_type": "code",
   "execution_count": 15,
   "id": "74f3cd3b-3e08-463f-a2c1-6539a2a9d691",
   "metadata": {},
   "outputs": [
    {
     "name": "stderr",
     "output_type": "stream",
     "text": [
      "No model was supplied, defaulted to distilbert/distilbert-base-uncased-finetuned-sst-2-english and revision af0f99b (https://huggingface.co/distilbert/distilbert-base-uncased-finetuned-sst-2-english).\n",
      "Using a pipeline without specifying a model name and revision in production is not recommended.\n"
     ]
    }
   ],
   "source": [
    "classifier = pipeline(\"sentiment-analysis\")"
   ]
  },
  {
   "cell_type": "code",
   "execution_count": 20,
   "id": "52d85cda-f408-4020-a662-a30a45b3d676",
   "metadata": {},
   "outputs": [
    {
     "name": "stdout",
     "output_type": "stream",
     "text": [
      "<transformers.pipelines.text_classification.TextClassificationPipeline object at 0x7c83954fb910>\n"
     ]
    }
   ],
   "source": [
    "print(classifier)"
   ]
  },
  {
   "cell_type": "markdown",
   "id": "396943fe-3998-43e5-8814-bce48e60df27",
   "metadata": {},
   "source": [
    "Our `classifier` is a `TextClassificationPipeline` pipeline object. It's designed to work with text classification tasks."
   ]
  },
  {
   "cell_type": "markdown",
   "id": "98effdd4-6549-41a2-84ec-5cdc69fcdfa9",
   "metadata": {},
   "source": [
    "The `classifier` accepts a sentence or list of sentences as input. For instance, we pass a single sentence. "
   ]
  },
  {
   "cell_type": "code",
   "execution_count": 16,
   "id": "44c28c4a-8bb7-4eac-9ee4-0a6c8d08ebee",
   "metadata": {},
   "outputs": [
    {
     "data": {
      "text/plain": [
       "[{'label': 'POSITIVE', 'score': 0.994739830493927}]"
      ]
     },
     "execution_count": 16,
     "metadata": {},
     "output_type": "execute_result"
    }
   ],
   "source": [
    "classifier(\"Hello, how are you?\")"
   ]
  },
  {
   "cell_type": "markdown",
   "id": "4a404559-7c24-42ef-ae6f-046a483b9c10",
   "metadata": {},
   "source": [
    "Beautiful, the `classifier`, returns a dictionary containing two results, the `label` and the `score`, that measure how the model is confident on that label."
   ]
  },
  {
   "cell_type": "code",
   "execution_count": 17,
   "id": "c38b53f8-c8db-4cd3-a3ee-a7fc320fb55e",
   "metadata": {},
   "outputs": [
    {
     "data": {
      "text/plain": [
       "[{'label': 'NEGATIVE', 'score': 0.9965726137161255}]"
      ]
     },
     "execution_count": 17,
     "metadata": {},
     "output_type": "execute_result"
    }
   ],
   "source": [
    "classifier(\"hey, wait what are you doing?\")"
   ]
  },
  {
   "cell_type": "markdown",
   "id": "1c9a6a71-323b-4284-803c-51218a26ffa8",
   "metadata": {},
   "source": [
    "The `pipeline` for sentiment analysis supports, passing multiple sentences. Let's check it out! "
   ]
  },
  {
   "cell_type": "code",
   "execution_count": 21,
   "id": "68170fa1-8ed6-4b42-bf92-c6ff1f78e94b",
   "metadata": {},
   "outputs": [
    {
     "data": {
      "text/plain": [
       "[{'label': 'POSITIVE', 'score': 0.9983717799186707},\n",
       " {'label': 'NEGATIVE', 'score': 0.9994558691978455}]"
      ]
     },
     "execution_count": 21,
     "metadata": {},
     "output_type": "execute_result"
    }
   ],
   "source": [
    "classifier(\n",
    "    [\n",
    "        \"I've been waiting for hugging face course my whole life.\", \"I hate this so much!\"\n",
    "    ]\n",
    ")"
   ]
  },
  {
   "cell_type": "code",
   "execution_count": null,
   "id": "69ac1159-e3de-4466-ab3a-969f2498b235",
   "metadata": {},
   "outputs": [],
   "source": []
  }
 ],
 "metadata": {
  "kernelspec": {
   "display_name": "Python (ml-env)",
   "language": "python",
   "name": "ml-env"
  },
  "language_info": {
   "codemirror_mode": {
    "name": "ipython",
    "version": 3
   },
   "file_extension": ".py",
   "mimetype": "text/x-python",
   "name": "python",
   "nbconvert_exporter": "python",
   "pygments_lexer": "ipython3",
   "version": "3.11.6"
  }
 },
 "nbformat": 4,
 "nbformat_minor": 5
}
