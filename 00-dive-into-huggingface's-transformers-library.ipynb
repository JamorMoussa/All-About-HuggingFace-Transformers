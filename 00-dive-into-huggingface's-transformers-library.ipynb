{
 "cells": [
  {
   "cell_type": "markdown",
   "id": "c4b1abc7-a7d6-4d39-8762-a5522f22d85e",
   "metadata": {},
   "source": [
    "# HuggingFace's Transformers Library"
   ]
  },
  {
   "cell_type": "markdown",
   "id": "02810501-a65d-4dc6-b558-f80315026ee1",
   "metadata": {},
   "source": [
    "## 01. Introduction"
   ]
  },
  {
   "cell_type": "code",
   "execution_count": null,
   "id": "95665ae9-27b1-4780-a410-d015dd955c00",
   "metadata": {},
   "outputs": [],
   "source": []
  }
 ],
 "metadata": {
  "kernelspec": {
   "display_name": "Python 3 (ipykernel)",
   "language": "python",
   "name": "python3"
  },
  "language_info": {
   "codemirror_mode": {
    "name": "ipython",
    "version": 3
   },
   "file_extension": ".py",
   "mimetype": "text/x-python",
   "name": "python",
   "nbconvert_exporter": "python",
   "pygments_lexer": "ipython3",
   "version": "3.11.6"
  }
 },
 "nbformat": 4,
 "nbformat_minor": 5
}
